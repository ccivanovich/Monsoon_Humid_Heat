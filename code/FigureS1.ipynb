{
 "cells": [
  {
   "cell_type": "code",
   "execution_count": 1,
   "metadata": {},
   "outputs": [],
   "source": [
    "import numpy as np\n",
    "import xarray as xr\n",
    "from matplotlib import pyplot as plt\n",
    "import matplotlib as mpl\n",
    "import pandas as pd\n",
    "import cartopy.crs  as ccrs\n",
    "import os\n",
    "import datetime\n",
    "from datetime import timedelta\n",
    "from datetime import datetime\n",
    "from matplotlib import ticker\n",
    "from matplotlib.axes import Axes\n",
    "from cartopy.mpl.geoaxes import GeoAxes\n",
    "import cartopy.feature as cfeature\n",
    "import geopandas as gp\n",
    "import matplotlib.patheffects as pe\n",
    "import pooch\n",
    "from matplotlib.lines import Line2D\n",
    "from scipy import stats"
   ]
  },
  {
   "cell_type": "code",
   "execution_count": 2,
   "metadata": {},
   "outputs": [
    {
     "name": "stdout",
     "output_type": "stream",
     "text": [
      "Wet bulb has been calculated\n"
     ]
    }
   ],
   "source": [
    "import WetBulb\n",
    "\n",
    "# Generate temperature range (in degrees C)\n",
    "N_steps = 500\n",
    "\n",
    "min_temp = 20\n",
    "max_temp = 40\n",
    "\n",
    "temp = np.linspace(min_temp,max_temp,N_steps)\n",
    "\n",
    "# Generate specific humidity range (in kg/kg)\n",
    "min_q = 0.01\n",
    "max_q = 0.025\n",
    "\n",
    "q = np.linspace(min_q, max_q, N_steps)\n",
    "\n",
    "# Calculate wet bulb temperature grid\n",
    "pres = 1000*100 # set general surface pressure to 1000 hPa\n",
    "\n",
    "# Make gridded arrays\n",
    "temp_grid, q_grid = np.meshgrid(temp, q) \n",
    "pres_grid = np.ones_like(temp_grid)*pres\n",
    "\n",
    "Twb,Teq,epott = WetBulb.WetBulb(temp_grid, pres_grid, q_grid, HumidityMode = 0)\n",
    "print('Wet bulb has been calculated.')"
   ]
  },
  {
   "cell_type": "code",
   "execution_count": 3,
   "metadata": {},
   "outputs": [],
   "source": [
    "# Shade saturated region\n",
    "from scipy.interpolate import griddata\n",
    "\n",
    "def grid(x, y, z, resX=1000, resY=1000):\n",
    "    \n",
    "    #prepare to create grid\n",
    "    xi = np.linspace(min(x), max(x), resX)\n",
    "    yi = np.linspace(min(y), max(y), resY)\n",
    "\n",
    "    #grid x, y, z\n",
    "    X, Y = np.meshgrid(xi, yi)\n",
    "    Z = griddata((x, y), z, (X, Y), method='linear')\n",
    "    return X, Y, Z\n",
    "\n",
    "# Make gridded arrays\n",
    "RH_grid = 0.263*(1000*100)*q_grid*(np.exp((17.67*temp_grid/(temp_grid+273.15-29.65))))**(-1);\n",
    "\n",
    "e_s = 6.11*np.exp(((2.5*(10**6))/461.52)*((1/273.15) - (1/(temp_grid+273.15)))) #saturation vapor pressure in hPa\n",
    "e = e_s*RH_grid/100 #vapor pressure in hPa\n",
    "sat_def = e_s - e #in hPa\n",
    "\n",
    "temp_array = temp_grid.flatten(order = 'C')\n",
    "q_array = q_grid.flatten(order = 'C')\n",
    "RH_array = RH_grid.flatten(order = 'C')\n",
    "SD_array = sat_def.flatten(order = 'C')\n",
    "\n",
    "data = pd.DataFrame({'Temperature': temp_array, 'Specific Humidity': q_array, 'Relative Humidity': RH_array,'Saturation Deficit': SD_array})\n",
    "\n",
    "# Select saturation curve\n",
    "data_CC_RH = data[(data['Relative Humidity'] <= 100.1) & (data['Relative Humidity'] >= 99.9)]\n",
    "data_CC_SD = data[(data['Saturation Deficit'] <= 0.01) & (data['Saturation Deficit'] >= -0.01)]"
   ]
  },
  {
   "cell_type": "code",
   "execution_count": 5,
   "metadata": {},
   "outputs": [
    {
     "data": {
      "text/plain": [
       "(10, 25)"
      ]
     },
     "execution_count": 5,
     "metadata": {},
     "output_type": "execute_result"
    },
    {
     "data": {
      "image/png": "[encoded data removed]",
      "text/plain": [
       "<Figure size 432x288 with 2 Axes>"
      ]
     },
     "metadata": {
      "needs_background": "light"
     },
     "output_type": "display_data"
    }
   ],
   "source": [
    "# Calculate isobaric Tw based on Li et al. 2020\n",
    "\n",
    "def e_sat(T):\n",
    "    # saturation (mass) mixing ratio\n",
    "    # Bolton's formula for saturation vapor pressure\n",
    "    Tc = T - 273.15     # temperature in Celsius\n",
    "    e_sat = 611.2 * np.exp(17.67 * Tc / (Tc + 243.5))\n",
    "    return e_sat\n",
    "    \n",
    "def r_sat(T, p):\n",
    "    # saturation (mass) mixing ratio\n",
    "    e_s = e_sat(T)\n",
    "    return e_s * 0.622 / (p - e_s)\n",
    "\n",
    "def q_sat(T, p):\n",
    "    Tc = T - 273.15     # temperature in Celsius\n",
    "    e_sat = 611.2 * np.exp(17.67 * Tc / (Tc + 243.5))\n",
    "    return e_sat * 0.622 / (p - e_sat)\n",
    "\n",
    "def wbt_isobaric(T, h, p, h_type='s', p_type='sf'):\n",
    "    # T: [dry bulb] temperature (K)\n",
    "    # h: humidity (specific, relative, or dewpoint)\n",
    "    #    types: relative ['r'], specific ['s'], or dewpoint ['d'])\n",
    "    # p: pressure in Pa\n",
    "    #    types: surface ['sf'] or sea level ['sl']\n",
    "    # r: mass mixing ratio of water vapor\n",
    "    # ps: surface pressure in Pa\n",
    "    # Z: global constant for surface height\n",
    "    #\n",
    "    cp = 1005.7         # specific heat of dry air\n",
    "    L0 = 2.501e6        # latent heat of vaporization (at 273.15K)\n",
    "    l = 0.00237e6       # temperature dependence of latent heat\n",
    "    g = 9.80616\n",
    "    Ra = 287.\n",
    "    gamma = -0.0065\n",
    "    #\n",
    "    if p_type == 'sf':\n",
    "        ps = p\n",
    "    else:\n",
    "        # convert sea level pressure to surface pressure\n",
    "        # (when surface pressure is not available)\n",
    "        ps = p * (1 - gamma * Z / T)**(g / Ra / gamma)\n",
    "    # Note that due to exponential shape of Clausius-Clayperon relation\n",
    "    # and associated strong non-linearity,\n",
    "    # relative humidity is not appropriate for daily-averaged fields,\n",
    "    # only valid for instantaneous fields\n",
    "    if h_type == 'r':\n",
    "        # relative humidity to mixing ratio\n",
    "        e = e_sat(T) * h\n",
    "        r0 = e * 0.622 / (ps - e)       \n",
    "        ind_sat = (h >= 1.0)            # index for saturated points\n",
    "    elif h_type == 's':\n",
    "        # specific humidity to mixing ratio\n",
    "        r0 = h / (1 - h)\n",
    "        ind_sat = (h >= q_sat(T, ps))   # index for saturated points\n",
    "    elif h_type == 'd':\n",
    "        # dewpoint temperature to mixing ratio\n",
    "        r0 = r_sat(h, ps)\n",
    "        ind_sat = (h >= T)              # index for saturated points\n",
    "    else:\n",
    "        print('Please provide a valid flag for humidity (r-relative, s-specific, d-dewpoint T)')\n",
    "    # bisection method\n",
    "    T1 = T - (L0 - l * (T - 273.15)) * (r_sat(T, ps) - r0) / cp\n",
    "    T2 = T.copy()                # must use copy or T will change\n",
    "    n = 0\n",
    "    while np.max(T2 - T1) > 1e-4:\n",
    "        Tm = (T1 + T2) / 2\n",
    "        r = r_sat(Tm, ps)        # saturated mixing ratio at Tm\n",
    "        ind1 = (cp * (T - Tm) >= (L0 - l * (T - 273.15)) * (r - r0))\n",
    "        ind2 = ~ind1\n",
    "        T1[ind1] = Tm[ind1]\n",
    "        T2[ind2] = Tm[ind2]\n",
    "        n += 1\n",
    "    # print(n)\n",
    "    Tw = Tm\n",
    "    Tw[ind_sat] = T[ind_sat]\n",
    "    return Tm\n",
    "\n",
    "# Calculate wet bulb temperature grid\n",
    "temp_grid, q_grid = np.meshgrid(temp, q) \n",
    "pres_grid = np.ones_like(temp_grid)*pres\n",
    "\n",
    "temp_grid_forcalc = temp_grid + 273.15\n",
    "\n",
    "ITW = wbt_isobaric(temp_grid_forcalc, q_grid, pres_grid, h_type='s', p_type='sf')\n",
    "\n",
    "ITW_C = ITW - 273.15\n",
    "\n",
    "# Plot difference between adiabatic Tw and ITW on grid\n",
    "mesh = plt.pcolormesh(temp,1000*q, Twb-ITW_C, vmin = -0.25, vmax = 0.25)\n",
    "cbar = plt.colorbar(mesh, label = 'Adiabatic - Isobaric (C)', pad = 0.05)\n",
    "plt.xlabel('Temperature (C)')\n",
    "plt.ylabel('Specific Humidity (g/kg)')\n",
    "\n",
    "shading = plt.fill_between(data_CC_SD['Temperature'], 1000*data_CC_SD['Specific Humidity'], 1000, color='white', alpha=1)\n",
    "plt.ylim([10,25])"
   ]
  }
 ],
 "metadata": {
  "kernelspec": {
   "display_name": "Python 3",
   "language": "python",
   "name": "python3"
  },
  "language_info": {
   "codemirror_mode": {
    "name": "ipython",
    "version": 3
   },
   "file_extension": ".py",
   "mimetype": "text/x-python",
   "name": "python",
   "nbconvert_exporter": "python",
   "pygments_lexer": "ipython3",
   "version": "3.6.10"
  }
 },
 "nbformat": 4,
 "nbformat_minor": 4
}
